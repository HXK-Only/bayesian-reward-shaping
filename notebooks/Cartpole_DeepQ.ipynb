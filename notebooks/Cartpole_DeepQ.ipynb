{
 "cells": [
  {
   "cell_type": "code",
   "execution_count": 1,
   "metadata": {
    "collapsed": true
   },
   "outputs": [
    {
     "name": "stderr",
     "output_type": "stream",
     "text": [
      "C:\\Users\\Michael\\Dropbox\\rl\\venv\\lib\\site-packages\\h5py\\__init__.py:36: FutureWarning: Conversion of the second argument of issubdtype from `float` to `np.floating` is deprecated. In future, it will be treated as `np.float64 == np.dtype(float).type`.\n  from ._conv import register_converters as _register_converters\nUsing TensorFlow backend.\n"
     ]
    }
   ],
   "source": [
    "# imports of necessary packages\n",
    "from domains.CartPole import CartPole\n",
    "from exploration.DecayingEpsilon import DecayingEpsilon\n",
    "from agents.DeepAgent import DeepAgent\n",
    "from training.Trainer import Trainer\n",
    "\n",
    "import random\n",
    "import numpy as np\n",
    "import matplotlib.pyplot as plt\n",
    "import keras\n",
    "from keras.models import Sequential\n",
    "from keras.layers import Dense\n",
    "from keras.layers import LeakyReLU\n",
    "from keras.optimizers import Adam\n",
    "from keras.regularizers import l2"
   ]
  },
  {
   "cell_type": "code",
   "execution_count": 2,
   "metadata": {},
   "outputs": [
    {
     "name": "stdout",
     "output_type": "stream",
     "text": [
      "\u001b[33mWARN: gym.spaces.Box autodetected dtype as <class 'numpy.float32'>. Please provide explicit dtype.\u001b[0m\n"
     ]
    }
   ],
   "source": [
    "# set up the domain\n",
    "domain = CartPole()\n",
    "\n",
    "# use default encoding for the states\n",
    "encoding = domain.default_encoding"
   ]
  },
  {
   "cell_type": "code",
   "execution_count": 3,
   "metadata": {},
   "outputs": [],
   "source": [
    "# let's import the pre-trained networks to use as the experts\n",
    "model_good = keras.models.load_model('C:\\\\Users\\\\Michael\\\\Dropbox'\n",
    "                                     '\\\\rl\\\\notebooks\\\\cartpole_model_6_by_2.h5')\n",
    "model_bad = keras.models.load_model('C:\\\\Users\\\\Michael\\\\Dropbox'\n",
    "                                    '\\\\rl\\\\notebooks\\\\cartpole_model_64_by_3.h5')"
   ]
  },
  {
   "cell_type": "code",
   "execution_count": 4,
   "metadata": {},
   "outputs": [],
   "source": [
    "# now we will define the shaping functions from these networks\n",
    "def good_shape(state):\n",
    "    return np.amax(model_good.predict(encoding(state))[0])\n",
    "\n",
    "def overfit_shape(state):\n",
    "    return np.amax(model_bad.predict(encoding(state))[0])\n",
    "\n",
    "# let's define the other experts\n",
    "def bad_shape(state):\n",
    "    return -good_shape(state)\n",
    "\n",
    "def zero_shape(state):\n",
    "    return 0.0\n",
    "\n",
    "def random_shape(state):\n",
    "    return random.random()"
   ]
  },
  {
   "cell_type": "code",
   "execution_count": 5,
   "metadata": {},
   "outputs": [],
   "source": [
    "# we will define the success criterion and stopping rule\n",
    "# since we will be taking an average of many trials, we don't do early stopping\n",
    "def steps_balanced(cartpole, policy, enc):\n",
    "    state, rewards, steps = cartpole.rewards(500, policy, 0.95, enc)\n",
    "    return steps, False"
   ]
  },
  {
   "cell_type": "code",
   "execution_count": 6,
   "metadata": {},
   "outputs": [
    {
     "name": "stdout",
     "output_type": "stream",
     "text": [
      "_________________________________________________________________\nLayer (type)                 Output Shape              Param #   \n=================================================================\ndense_1 (Dense)              (None, 12)                60        \n_________________________________________________________________\nleaky_re_lu_1 (LeakyReLU)    (None, 12)                0         \n_________________________________________________________________\ndense_2 (Dense)              (None, 12)                156       \n_________________________________________________________________\nleaky_re_lu_2 (LeakyReLU)    (None, 12)                0         \n_________________________________________________________________\ndense_3 (Dense)              (None, 2)                 26        \n=================================================================\nTotal params: 242\nTrainable params: 242\nNon-trainable params: 0\n_________________________________________________________________\nNone\n"
     ]
    }
   ],
   "source": [
    "# set up the neural network as the function approximator\n",
    "model = Sequential()\n",
    "regularizer = l2(1e-6)\n",
    "model.add(Dense(units=12, input_dim=domain.state_dim(),\n",
    "                kernel_regularizer=regularizer))\n",
    "model.add(LeakyReLU())\n",
    "model.add(Dense(units=12,\n",
    "                kernel_regularizer=regularizer))\n",
    "model.add(LeakyReLU())\n",
    "model.add(Dense(units=domain.action_count(),\n",
    "                activation='linear',\n",
    "                kernel_regularizer=regularizer))\n",
    "model.compile(loss='mse', optimizer=Adam(lr=0.001))\n",
    "print(model.summary())\n",
    "\n",
    "# set up the exploration schedule for the greedy epsilon policy\n",
    "eps_schedule = DecayingEpsilon(0.5, 0.01, 0.995)\n",
    "\n",
    "# set up the learning agent\n",
    "agent = DeepAgent(domain.state_dim(), domain.action_count(), 0.95)\n",
    "agent.setup_nn(batch_size=32, \n",
    "               epochs_per_batch=1,\n",
    "               memory_size=10000, \n",
    "               network=model)\n",
    "\n",
    "# finally create the training algorithm\n",
    "training = Trainer(domain, agent, encoding)"
   ]
  },
  {
   "cell_type": "code",
   "execution_count": 7,
   "metadata": {},
   "outputs": [
    {
     "name": "stdout",
     "output_type": "stream",
     "text": [
      "Trial 0 complete.\n"
     ]
    },
    {
     "name": "stdout",
     "output_type": "stream",
     "text": [
      "Trial 1 complete.\n"
     ]
    },
    {
     "name": "stdout",
     "output_type": "stream",
     "text": [
      "Trial 2 complete.\n"
     ]
    },
    {
     "name": "stdout",
     "output_type": "stream",
     "text": [
      "Trial 3 complete.\n"
     ]
    },
    {
     "name": "stdout",
     "output_type": "stream",
     "text": [
      "Trial 4 complete.\n"
     ]
    },
    {
     "name": "stdout",
     "output_type": "stream",
     "text": [
      "Trial 5 complete.\n"
     ]
    },
    {
     "name": "stdout",
     "output_type": "stream",
     "text": [
      "Trial 6 complete.\n"
     ]
    },
    {
     "name": "stdout",
     "output_type": "stream",
     "text": [
      "Trial 7 complete.\n"
     ]
    },
    {
     "name": "stdout",
     "output_type": "stream",
     "text": [
      "Trial 8 complete.\n"
     ]
    },
    {
     "name": "stdout",
     "output_type": "stream",
     "text": [
      "Trial 9 complete.\n"
     ]
    }
   ],
   "source": [
    "# we start by training for 10 trials on all the experts and sarsa\n",
    "experts = [zero_shape, good_shape, overfit_shape, bad_shape, random_shape]\n",
    "data_sarsa = training.run_many(trials=10, epochs=125, horizon=500, \n",
    "                               exploration=eps_schedule, experts=experts,\n",
    "                               method='sarsa', \n",
    "                               replay_online_every=0, replays_offline=32,\n",
    "                               measure=steps_balanced)"
   ]
  },
  {
   "cell_type": "code",
   "execution_count": 8,
   "metadata": {},
   "outputs": [
    {
     "data": {
      "image/png": "[encoded data removed]",
      "text/plain": [
       "<Figure size 432x288 with 1 Axes>"
      ]
     },
     "metadata": {},
     "output_type": "display_data"
    }
   ],
   "source": [
    "# now let's plot the bayesian weights\n",
    "plt.xlabel('epoch')\n",
    "plt.ylabel('weights')\n",
    "legend_labels = ['zero', 'first', 'second', 'bad', 'random']\n",
    "for i, series in enumerate(data_sarsa['weights']):\n",
    "    plt.plot(series, label=legend_labels[i])\n",
    "plt.legend(loc='upper left')\n",
    "plt.show()"
   ]
  },
  {
   "cell_type": "code",
   "execution_count": 9,
   "metadata": {},
   "outputs": [],
   "source": [
    "# so as expected the agent learns to trust the well-trained model\n",
    "# interestingly, over time the agent also trusts the over-trained model\n",
    "# this may be because the neural net being trained is starting to overfit as well"
   ]
  },
  {
   "cell_type": "code",
   "execution_count": 10,
   "metadata": {},
   "outputs": [
    {
     "name": "stdout",
     "output_type": "stream",
     "text": [
      "Trial 0 complete.\n"
     ]
    },
    {
     "name": "stdout",
     "output_type": "stream",
     "text": [
      "Trial 1 complete.\n"
     ]
    },
    {
     "name": "stdout",
     "output_type": "stream",
     "text": [
      "Trial 2 complete.\n"
     ]
    },
    {
     "name": "stdout",
     "output_type": "stream",
     "text": [
      "Trial 3 complete.\n"
     ]
    },
    {
     "name": "stdout",
     "output_type": "stream",
     "text": [
      "Trial 4 complete.\n"
     ]
    },
    {
     "name": "stdout",
     "output_type": "stream",
     "text": [
      "Trial 5 complete.\n"
     ]
    },
    {
     "name": "stdout",
     "output_type": "stream",
     "text": [
      "Trial 6 complete.\n"
     ]
    },
    {
     "name": "stdout",
     "output_type": "stream",
     "text": [
      "Trial 7 complete.\n"
     ]
    },
    {
     "name": "stdout",
     "output_type": "stream",
     "text": [
      "Trial 8 complete.\n"
     ]
    },
    {
     "name": "stdout",
     "output_type": "stream",
     "text": [
      "Trial 9 complete.\n"
     ]
    }
   ],
   "source": [
    "# let's compute the benchmark rewards without shaping\n",
    "data_sarsa_bench = training.run_many(trials=10, epochs=125, horizon=500, \n",
    "                                     exploration=eps_schedule, experts=[zero_shape],\n",
    "                                     method='sarsa', \n",
    "                                     replay_online_every=0, replays_offline=32,\n",
    "                                     measure=steps_balanced)"
   ]
  },
  {
   "cell_type": "code",
   "execution_count": 11,
   "metadata": {},
   "outputs": [
    {
     "data": {
      "image/png": "[encoded data removed]",
      "text/plain": [
       "<Figure size 432x288 with 1 Axes>"
      ]
     },
     "metadata": {},
     "output_type": "display_data"
    }
   ],
   "source": [
    "# let's plot the progress\n",
    "plt.xlabel('epoch')\n",
    "plt.ylabel('steps before pole dropped')\n",
    "plt.plot(data_sarsa['measure'], label='with shaping')\n",
    "plt.plot(data_sarsa_bench['measure'], label='without shaping')\n",
    "plt.legend(loc='upper left')\n",
    "plt.show()"
   ]
  },
  {
   "cell_type": "code",
   "execution_count": 12,
   "metadata": {},
   "outputs": [],
   "source": [
    "# wow this is impressive! clearly shaping has helped because the agent\n",
    "# is learning faster and also it seems the values are better on average\n",
    "# i'd want to run this for more epochs to verify this"
   ]
  },
  {
   "cell_type": "code",
   "execution_count": null,
   "metadata": {},
   "outputs": [],
   "source": []
  }
 ],
 "metadata": {
  "kernelspec": {
   "display_name": "Python 2",
   "language": "python",
   "name": "python2"
  },
  "language_info": {
   "codemirror_mode": {
    "name": "ipython",
    "version": 2
   },
   "file_extension": ".py",
   "mimetype": "text/x-python",
   "name": "python",
   "nbconvert_exporter": "python",
   "pygments_lexer": "ipython2",
   "version": "2.7.6"
  }
 },
 "nbformat": 4,
 "nbformat_minor": 0
}
