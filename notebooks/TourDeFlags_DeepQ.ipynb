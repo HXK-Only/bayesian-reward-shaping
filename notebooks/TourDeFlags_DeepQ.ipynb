{
 "cells": [
  {
   "cell_type": "code",
   "execution_count": 1,
   "metadata": {
    "collapsed": true
   },
   "outputs": [
    {
     "name": "stderr",
     "output_type": "stream",
     "text": [
      "C:\\Users\\Michael\\Dropbox\\rl\\venv\\lib\\site-packages\\h5py\\__init__.py:36: FutureWarning: Conversion of the second argument of issubdtype from `float` to `np.floating` is deprecated. In future, it will be treated as `np.float64 == np.dtype(float).type`.\n  from ._conv import register_converters as _register_converters\n"
     ]
    },
    {
     "name": "stderr",
     "output_type": "stream",
     "text": [
      "Using TensorFlow backend.\n"
     ]
    }
   ],
   "source": [
    "# imports of necessary packages\n",
    "from domains.TourDeFlags import TourDeFlags\n",
    "from exploration.DecayingEpsilon import DecayingEpsilon\n",
    "from agents.DeepAgent import DeepAgent\n",
    "from training.Trainer import Trainer\n",
    "\n",
    "import random\n",
    "import numpy as np\n",
    "import matplotlib.pyplot as plt\n",
    "from keras.models import Sequential\n",
    "from keras.layers import Dense\n",
    "from keras.optimizers import Adam"
   ]
  },
  {
   "cell_type": "code",
   "execution_count": 2,
   "metadata": {},
   "outputs": [],
   "source": [
    "# set up the domain\n",
    "maze = np.array([\n",
    "        [0, 0, -1, 0, 0, 0, 0, 0, -1, 0, 0],\n",
    "        [0, 0, -1, 2, 0, 0, 0, 0, -1, 4, 0],\n",
    "        [0, 0, -1, 0, 0, 0, 0, 0, -1, 0, 0],\n",
    "        [0, 0, -1, 0, 0, 0, 0, 0, -1, 0, 0],\n",
    "        [0, 0, -1, 0, 0, -1, 0, 0, -1, 0, 0],\n",
    "        [0, 0, -1, 0, 0, -1, 3, 0, -1, 0, 0],\n",
    "        [0, 0, -1, 0, 0, -1, 0, 0, -1, 0, 0],\n",
    "        [0, 0, 0, 0, 0, -1, 0, 0, 0, 0, 0],\n",
    "        [0, 0, 0, 0, 0, -1, 0, 0, 0, 0, 0],\n",
    "        [0, 0, 0, 0, 0, -1, 0, 0, 0, 0, 0],\n",
    "        [0, 0, 0, 0, 1, -1, 0, 0, 0, 0, 5]\n",
    "    ])\n",
    "domain = TourDeFlags(maze, (5, 0))\n",
    "\n",
    "# use the default encoding\n",
    "encoding = domain.default_encoding"
   ]
  },
  {
   "cell_type": "code",
   "execution_count": 3,
   "metadata": {},
   "outputs": [],
   "source": [
    "# now we will define the shaping functions from these networks\n",
    "# we use Phi0 and Phi1 from Ng, Harada and Russell's 1999 ICML paper \n",
    "# \"Policy invariance under reward transformations: Theory and application to reward shaping\"\n",
    "# it would be interesting to see whether we can identify different qualities of intuition\n",
    "# however, note that the \"good\" shaping function used here is for a somewhat different problem\n",
    "# with walls, so it is also an approximation. in fact, it's not clear whether Phi0 or Phi1\n",
    "# is better\n",
    "def zero_shape(state):\n",
    "    return 0.0\n",
    "\n",
    "def heuristic_shape(state):\n",
    "    row, col, collected = state\n",
    "    if collected == 0:\n",
    "        return -abs(row - 10) - abs(col - 4) - 38.0\n",
    "    elif collected == 1:\n",
    "        return -abs(row - 1) - abs(col - 3) - 28.0\n",
    "    elif collected == 2:\n",
    "        return -abs(row - 5) - abs(col - 6) - 21.0\n",
    "    elif collected == 3:\n",
    "        return -abs(row - 1) - abs(col - 9) - 10.0\n",
    "    elif collected == 4:\n",
    "        return -abs(row - 10) - abs(col - 10)\n",
    "    else:\n",
    "        return 0.0\n",
    "    \n",
    "def heuristic_shape2(state):\n",
    "    return -47.0 * ((5.0 - state[2] - 0.5) / 5.0)\n",
    "\n",
    "def bad_shape(state):\n",
    "    return 47.0 * ((5.0 - state[2] - 0.5) / 5.0)\n",
    "\n",
    "def random_shape(state):\n",
    "    return -random.random()"
   ]
  },
  {
   "cell_type": "code",
   "execution_count": 4,
   "metadata": {},
   "outputs": [],
   "source": [
    "# we will define the success criterion and stopping rule\n",
    "# since we will be taking an average of many trials, we don't do early stopping\n",
    "def steps_to_goal(maze, policy, enc):\n",
    "    state = maze.initial_state()\n",
    "    state_enc = enc(state)\n",
    "    steps = 0\n",
    "    while steps < maze.max_steps:\n",
    "        action = policy(state_enc)\n",
    "        state, reward, done = maze.act(state, action)\n",
    "        state_enc = enc(state)\n",
    "        steps += 1\n",
    "        if done:\n",
    "            break\n",
    "    return steps, False"
   ]
  },
  {
   "cell_type": "code",
   "execution_count": 5,
   "metadata": {},
   "outputs": [
    {
     "name": "stdout",
     "output_type": "stream",
     "text": [
      "_________________________________________________________________\nLayer (type)                 Output Shape              Param #   \n=================================================================\ndense_1 (Dense)              (None, 121)               3509      \n_________________________________________________________________\ndense_2 (Dense)              (None, 121)               14762     \n_________________________________________________________________\ndense_3 (Dense)              (None, 4)                 488       \n=================================================================\nTotal params: 18,759\nTrainable params: 18,759\nNon-trainable params: 0\n_________________________________________________________________\nNone\n"
     ]
    }
   ],
   "source": [
    "# set up the neural network as the function approximator\n",
    "model = Sequential()\n",
    "model.add(Dense(maze.size,\n",
    "                input_shape=(domain.state_dim(), ),\n",
    "                activation='relu'))\n",
    "model.add(Dense(maze.size,\n",
    "                activation='relu'))\n",
    "model.add(Dense(domain.action_count()))\n",
    "model.compile(optimizer=Adam(0.001), loss='mse')\n",
    "print(model.summary())\n",
    "\n",
    "# set up the exploration schedule for the greedy epsilon policy\n",
    "eps_schedule = DecayingEpsilon(0.5, 0.05, 0.99)\n",
    "\n",
    "# set up the learning agent\n",
    "agent = DeepAgent(domain.state_dim(), domain.action_count(), 1.0)\n",
    "agent.setup_nn(batch_size=32, \n",
    "               epochs_per_batch=4,\n",
    "               memory_size=10000, \n",
    "               network=model)\n",
    "\n",
    "# finally create the training algorithm\n",
    "training = Trainer(domain, agent, encoding)"
   ]
  },
  {
   "cell_type": "code",
   "execution_count": 6,
   "metadata": {},
   "outputs": [
    {
     "name": "stdout",
     "output_type": "stream",
     "text": [
      "Trial 0 complete.\n"
     ]
    }
   ],
   "source": [
    "# we start by training for 1 trial on all the experts and sarsa\n",
    "# this can take 20 minutes to train\n",
    "experts = [zero_shape, heuristic_shape, heuristic_shape2, random_shape, bad_shape]\n",
    "data_sarsa = training.run_many(trials=1, epochs=150, horizon=domain.max_steps,\n",
    "                               exploration=eps_schedule, experts=experts,\n",
    "                               method='sarsa', \n",
    "                               replay_online_every=1, replays_offline=0,\n",
    "                               measure=steps_to_goal)"
   ]
  },
  {
   "cell_type": "code",
   "execution_count": 7,
   "metadata": {},
   "outputs": [
    {
     "data": {
      "image/png": "[encoded data removed]",
      "text/plain": [
       "<Figure size 432x288 with 1 Axes>"
      ]
     },
     "metadata": {},
     "output_type": "display_data"
    }
   ],
   "source": [
    "# now let's plot the bayesian weights\n",
    "plt.xlabel('epoch')\n",
    "plt.ylabel('weights')\n",
    "legend_labels = ['zero', 'first', 'second', 'random', 'bad']\n",
    "for i, series in enumerate(data_sarsa['weights']):\n",
    "    plt.plot(series, label=legend_labels[i])\n",
    "plt.legend(loc='upper left')\n",
    "plt.show()"
   ]
  },
  {
   "cell_type": "code",
   "execution_count": 8,
   "metadata": {},
   "outputs": [],
   "source": [
    "# Interestingly, it puts almost all it's weights on the second expert and not the first. \n",
    "# I guess ignoring the barriers induces a large error and doesn't fit to the value \n",
    "# function well, whereas the \"midpoint\" rule is more accurate"
   ]
  },
  {
   "cell_type": "code",
   "execution_count": 10,
   "metadata": {},
   "outputs": [
    {
     "name": "stdout",
     "output_type": "stream",
     "text": [
      "Trial 0 complete.\n"
     ]
    }
   ],
   "source": [
    "# the benchmark\n",
    "data_sarsa_bench = training.run_many(trials=1, epochs=150, horizon=domain.max_steps,\n",
    "                                     exploration=eps_schedule, experts=[zero_shape],\n",
    "                                     method='sarsa', \n",
    "                                     replay_online_every=1, replays_offline=0,\n",
    "                                     measure=steps_to_goal)"
   ]
  },
  {
   "cell_type": "code",
   "execution_count": 14,
   "metadata": {},
   "outputs": [
    {
     "data": {
      "image/png": "[encoded data removed]",
      "text/plain": [
       "<Figure size 432x288 with 1 Axes>"
      ]
     },
     "metadata": {},
     "output_type": "display_data"
    }
   ],
   "source": [
    "# let's plot the progress\n",
    "plt.xlabel('epoch')\n",
    "plt.ylabel('steps to goal')\n",
    "plt.plot(data_sarsa['measure'], label='with shaping')\n",
    "plt.plot(data_sarsa_bench['measure'], label='without shaping')\n",
    "plt.legend(loc='upper left')\n",
    "plt.show()"
   ]
  },
  {
   "cell_type": "code",
   "execution_count": 15,
   "metadata": {},
   "outputs": [],
   "source": [
    "# so with shaping we can obtain the optimal policy faster than without.\n",
    "# I would hope to see the same result over many trials"
   ]
  },
  {
   "cell_type": "code",
   "execution_count": null,
   "metadata": {},
   "outputs": [],
   "source": [
    "# I will need more trials to verify that learning is faster with shaping"
   ]
  }
 ],
 "metadata": {
  "kernelspec": {
   "display_name": "Python 2",
   "language": "python",
   "name": "python2"
  },
  "language_info": {
   "codemirror_mode": {
    "name": "ipython",
    "version": 2
   },
   "file_extension": ".py",
   "mimetype": "text/x-python",
   "name": "python",
   "nbconvert_exporter": "python",
   "pygments_lexer": "ipython2",
   "version": "2.7.6"
  }
 },
 "nbformat": 4,
 "nbformat_minor": 0
}
