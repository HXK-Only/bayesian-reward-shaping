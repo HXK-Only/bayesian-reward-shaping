{
 "cells": [
  {
   "cell_type": "code",
   "execution_count": 2,
   "metadata": {
    "collapsed": true
   },
   "outputs": [],
   "source": [
    "# imports of necessary packages\n",
    "from domains.Inventory import Inventory\n",
    "from exploration.DecayingEpsilon import DecayingEpsilon\n",
    "from agents.DeepAgent import DeepAgent\n",
    "from training.Trainer import Trainer\n",
    "\n",
    "import random\n",
    "import numpy as np\n",
    "import matplotlib.pyplot as plt\n",
    "import keras\n",
    "from keras.models import Sequential\n",
    "from keras.layers import Dense\n",
    "from keras.optimizers import Adam\n",
    "from keras.regularizers import l2"
   ]
  },
  {
   "cell_type": "code",
   "execution_count": 3,
   "metadata": {},
   "outputs": [],
   "source": [
    "# set up the domain\n",
    "domain = Inventory()\n",
    "\n",
    "# use default encoding for the states\n",
    "encoding = domain.default_encoding"
   ]
  },
  {
   "cell_type": "code",
   "execution_count": 4,
   "metadata": {},
   "outputs": [],
   "source": [
    "# let's import the pre-trained networks to use as the experts\n",
    "model_good = keras.models.load_model('C:\\\\Users\\\\Michael\\\\Dropbox'\n",
    "                                     '\\\\rl\\\\notebooks\\\\inventory_model_128_by_2.h5')"
   ]
  },
  {
   "cell_type": "code",
   "execution_count": 5,
   "metadata": {},
   "outputs": [],
   "source": [
    "# now we will define the shaping functions from these networks\n",
    "def good_shape(state):\n",
    "    return np.amax(model_good.predict(encoding(state))[0])\n",
    "\n",
    "def bad_shape(state):\n",
    "    return -good_shape(state)\n",
    "\n",
    "def zero_shape(state):\n",
    "    return 0.0\n",
    "\n",
    "def random_shape(state):\n",
    "    return 10.0 * random.random()"
   ]
  },
  {
   "cell_type": "code",
   "execution_count": 6,
   "metadata": {},
   "outputs": [
    {
     "name": "stdout",
     "output_type": "stream",
     "text": [
      "_________________________________________________________________\nLayer (type)                 Output Shape              Param #   \n=================================================================\ndense_1 (Dense)              (None, 64)                512       \n_________________________________________________________________\ndense_2 (Dense)              (None, 64)                4160      \n_________________________________________________________________\ndense_3 (Dense)              (None, 42)                2730      \n=================================================================\nTotal params: 7,402\nTrainable params: 7,402\nNon-trainable params: 0\n_________________________________________________________________\nNone\n"
     ]
    }
   ],
   "source": [
    "# set up the neural network as the function approximator\n",
    "model = Sequential()\n",
    "regularizer = l2(1e-6)\n",
    "model.add(Dense(64,\n",
    "                input_dim=domain.state_dim(),\n",
    "                activation='relu',\n",
    "                kernel_regularizer=regularizer))\n",
    "model.add(Dense(64,\n",
    "                activation='relu',\n",
    "                kernel_regularizer=regularizer))\n",
    "model.add(Dense(domain.action_count(),\n",
    "                activation='linear',\n",
    "                kernel_regularizer=regularizer))\n",
    "model.compile(optimizer=Adam(lr=0.0005), loss='mse')\n",
    "print(model.summary())\n",
    "\n",
    "# set up the exploration schedule for the greedy epsilon policy\n",
    "eps_schedule = DecayingEpsilon(0.5, 0.01, 0.98)\n",
    "\n",
    "# set up the learning agent\n",
    "agent = DeepAgent(domain.state_dim(), domain.action_count(), 0.975)\n",
    "agent.setup_nn(batch_size=32, \n",
    "               epochs_per_batch=1,\n",
    "               memory_size=32000, \n",
    "               network=model)\n",
    "\n",
    "# finally create the training algorithm\n",
    "training = Trainer(domain, agent, encoding)"
   ]
  },
  {
   "cell_type": "code",
   "execution_count": 7,
   "metadata": {},
   "outputs": [
    {
     "name": "stdout",
     "output_type": "stream",
     "text": [
      "Trial 0 complete.\n"
     ]
    },
    {
     "name": "stdout",
     "output_type": "stream",
     "text": [
      "Trial 1 complete.\n"
     ]
    },
    {
     "name": "stdout",
     "output_type": "stream",
     "text": [
      "Trial 2 complete.\n"
     ]
    },
    {
     "name": "stdout",
     "output_type": "stream",
     "text": [
      "Trial 3 complete.\n"
     ]
    },
    {
     "name": "stdout",
     "output_type": "stream",
     "text": [
      "Trial 4 complete.\n"
     ]
    },
    {
     "name": "stdout",
     "output_type": "stream",
     "text": [
      "Trial 5 complete.\n"
     ]
    },
    {
     "name": "stdout",
     "output_type": "stream",
     "text": [
      "Trial 6 complete.\n"
     ]
    },
    {
     "name": "stdout",
     "output_type": "stream",
     "text": [
      "Trial 7 complete.\n"
     ]
    },
    {
     "name": "stdout",
     "output_type": "stream",
     "text": [
      "Trial 8 complete.\n"
     ]
    },
    {
     "name": "stdout",
     "output_type": "stream",
     "text": [
      "Trial 9 complete.\n"
     ]
    }
   ],
   "source": [
    "# we start by training for 10 trials on all the experts and sarsa\n",
    "experts = [zero_shape, good_shape, bad_shape, random_shape]\n",
    "data_sarsa = training.run_many(trials=10, epochs=125, horizon=100, \n",
    "                               exploration=eps_schedule, experts=experts,\n",
    "                               method='sarsa', \n",
    "                               replay_online_every=1, replays_offline=0,\n",
    "                               measure=None)"
   ]
  },
  {
   "cell_type": "code",
   "execution_count": 8,
   "metadata": {},
   "outputs": [
    {
     "data": {
      "image/png": "[encoded data removed]",
      "text/plain": [
       "<Figure size 432x288 with 1 Axes>"
      ]
     },
     "metadata": {},
     "output_type": "display_data"
    }
   ],
   "source": [
    "# now let's plot the bayesian weights\n",
    "plt.xlabel('epoch')\n",
    "plt.ylabel('weights')\n",
    "legend_labels = ['zero', 'good', 'bad', 'random']\n",
    "for i, series in enumerate(data_sarsa['weights']):\n",
    "    plt.plot(series, label=legend_labels[i])\n",
    "plt.legend(loc='upper left')\n",
    "plt.show()"
   ]
  },
  {
   "cell_type": "code",
   "execution_count": 9,
   "metadata": {},
   "outputs": [],
   "source": [
    "# as expected, the model will assign more weight to the good expert\n",
    "# fortunately it is assigning no weight to the bad expert, but it prefers the \n",
    "# random expert at the beginning. \n",
    "# it may be because the rewards are noisy during training\n",
    "# but could also be due to numerical or other errors\n",
    "# will need to investigate the reason for this"
   ]
  },
  {
   "cell_type": "code",
   "execution_count": 11,
   "metadata": {},
   "outputs": [
    {
     "name": "stdout",
     "output_type": "stream",
     "text": [
      "Trial 0 complete.\n"
     ]
    },
    {
     "name": "stdout",
     "output_type": "stream",
     "text": [
      "Trial 1 complete.\n"
     ]
    },
    {
     "name": "stdout",
     "output_type": "stream",
     "text": [
      "Trial 2 complete.\n"
     ]
    },
    {
     "name": "stdout",
     "output_type": "stream",
     "text": [
      "Trial 3 complete.\n"
     ]
    },
    {
     "name": "stdout",
     "output_type": "stream",
     "text": [
      "Trial 4 complete.\n"
     ]
    },
    {
     "name": "stdout",
     "output_type": "stream",
     "text": [
      "Trial 5 complete.\n"
     ]
    },
    {
     "name": "stdout",
     "output_type": "stream",
     "text": [
      "Trial 6 complete.\n"
     ]
    },
    {
     "name": "stdout",
     "output_type": "stream",
     "text": [
      "Trial 7 complete.\n"
     ]
    },
    {
     "name": "stdout",
     "output_type": "stream",
     "text": [
      "Trial 8 complete.\n"
     ]
    },
    {
     "name": "stdout",
     "output_type": "stream",
     "text": [
      "Trial 9 complete.\n"
     ]
    }
   ],
   "source": [
    "# let's compare this to no shaping\n",
    "data_sarsa_bench = training.run_many(trials=10, epochs=125, horizon=100, \n",
    "                                     exploration=eps_schedule, experts=[zero_shape],\n",
    "                                     method='sarsa', \n",
    "                                     replay_online_every=1, replays_offline=0,\n",
    "                                     measure=None)"
   ]
  },
  {
   "cell_type": "code",
   "execution_count": 12,
   "metadata": {},
   "outputs": [
    {
     "data": {
      "image/png": "[encoded data removed]",
      "text/plain": [
       "<Figure size 432x288 with 1 Axes>"
      ]
     },
     "metadata": {},
     "output_type": "display_data"
    }
   ],
   "source": [
    "# let's plot the progress\n",
    "plt.xlabel('epoch')\n",
    "plt.ylabel('discounted rewards')\n",
    "plt.plot(data_sarsa['rewards'], label='with shaping')\n",
    "plt.plot(data_sarsa_bench['rewards'], label='without shaping')\n",
    "plt.legend(loc='upper left')\n",
    "plt.show()"
   ]
  },
  {
   "cell_type": "code",
   "execution_count": null,
   "metadata": {},
   "outputs": [],
   "source": [
    "# Interestingly, for the current setup, reward shaping has not helped convergence.\n",
    "# This could either be because the domain is already fairly simple, or because\n",
    "# the architecture used as one of the experts was not trained correctly.\n",
    "# I think the reward needs to also be computed off policy, although \n",
    "# epsilon is decaying quite rapidly here.\n",
    "# More work will need to be done to correct this in the near future."
   ]
  }
 ],
 "metadata": {
  "kernelspec": {
   "display_name": "Python 2",
   "language": "python",
   "name": "python2"
  },
  "language_info": {
   "codemirror_mode": {
    "name": "ipython",
    "version": 2
   },
   "file_extension": ".py",
   "mimetype": "text/x-python",
   "name": "python",
   "nbconvert_exporter": "python",
   "pygments_lexer": "ipython2",
   "version": "2.7.6"
  }
 },
 "nbformat": 4,
 "nbformat_minor": 0
}
